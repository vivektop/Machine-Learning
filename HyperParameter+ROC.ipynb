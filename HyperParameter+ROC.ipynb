{
 "cells": [
  {
   "cell_type": "code",
   "execution_count": 94,
   "metadata": {},
   "outputs": [],
   "source": [
    "import pandas as pd\n",
    "import numpy as np\n",
    "from sklearn.tree import DecisionTreeClassifier\n",
    "from sklearn.ensemble import RandomForestClassifier\n",
    "from sklearn.model_selection import train_test_split\n",
    "from sklearn.preprocessing import StandardScaler\n",
    "from sklearn.metrics.pairwise import euclidean_distances\n",
    "%matplotlib inline\n",
    "from sklearn.metrics import accuracy_score,classification_report\n",
    "from sklearn.metrics import confusion_matrix\n",
    "from sklearn.metrics import auc\n",
    "\n",
    "from sklearn.ensemble import AdaBoostClassifier"
   ]
  },
  {
   "cell_type": "code",
   "execution_count": 42,
   "metadata": {},
   "outputs": [
    {
     "data": {
      "text/plain": [
       "(1000, 21)"
      ]
     },
     "execution_count": 42,
     "metadata": {},
     "output_type": "execute_result"
    }
   ],
   "source": [
    "credit = pd.read_csv('D:/Datasets/credit-default.csv')\n",
    "credit.shape"
   ]
  },
  {
   "cell_type": "markdown",
   "metadata": {},
   "source": [
    "## Parameter Tuning"
   ]
  },
  {
   "cell_type": "code",
   "execution_count": 24,
   "metadata": {},
   "outputs": [],
   "source": [
    "credit_dummies = pd.get_dummies(credit)\n",
    "train,test = train_test_split(credit_dummies, test_size = 0.3, random_state = 100)\n",
    "\n",
    "train_x = train.drop('default',axis = 1)\n",
    "test_x = test.drop('default',axis = 1)\n",
    "\n",
    "train_y = train['default']\n",
    "test_y = test['default']"
   ]
  },
  {
   "cell_type": "code",
   "execution_count": 25,
   "metadata": {},
   "outputs": [
    {
     "data": {
      "text/plain": [
       "300"
      ]
     },
     "execution_count": 25,
     "metadata": {},
     "output_type": "execute_result"
    }
   ],
   "source": [
    "test_x.shape[0]"
   ]
  },
  {
   "cell_type": "code",
   "execution_count": 40,
   "metadata": {},
   "outputs": [
    {
     "name": "stdout",
     "output_type": "stream",
     "text": [
      "0.73\n"
     ]
    }
   ],
   "source": [
    "test_pred = np.ones(test_x.shape[0])\n",
    "print(accuracy_score(test_y,test_pred))\n",
    "#confusion_matrix(test_y,test_pred,labels = [1,2])"
   ]
  },
  {
   "cell_type": "code",
   "execution_count": 41,
   "metadata": {},
   "outputs": [
    {
     "name": "stdout",
     "output_type": "stream",
     "text": [
      "219\n",
      "0\n",
      "0\n",
      "81\n"
     ]
    }
   ],
   "source": [
    "# \n",
    "df_pred = pd.DataFrame({'actual':test_y,'predicted':test_pred})\n",
    "#TN\n",
    "print(((df_pred['actual']==1) & (df_pred['predicted']==1)).sum())\n",
    "#TP\n",
    "print(((df_pred['actual']==2) & (df_pred['predicted']==2)).sum())\n",
    "#FP\n",
    "print(((df_pred['actual']==1) & (df_pred['predicted']==2)).sum())\n",
    "#FN\n",
    "print(((df_pred['actual']==2) & (df_pred['predicted']==1)).sum())"
   ]
  },
  {
   "cell_type": "code",
   "execution_count": 46,
   "metadata": {},
   "outputs": [
    {
     "name": "stdout",
     "output_type": "stream",
     "text": [
      "0.76\n"
     ]
    },
    {
     "data": {
      "text/plain": [
       "array([1, 2, 1, 2, 1], dtype=int64)"
      ]
     },
     "execution_count": 46,
     "metadata": {},
     "output_type": "execute_result"
    }
   ],
   "source": [
    "model = RandomForestClassifier(random_state = 100)\n",
    "model.fit(train_x,train_y)\n",
    "test_pred = model.predict(test_x)\n",
    "print(accuracy_score(test_y,test_pred))\n",
    "#confusion_matrix(test_y,test_pred,labels = [1,2])\n",
    "test_pred[:5]"
   ]
  },
  {
   "cell_type": "code",
   "execution_count": 45,
   "metadata": {},
   "outputs": [
    {
     "data": {
      "text/html": [
       "<div>\n",
       "<style scoped>\n",
       "    .dataframe tbody tr th:only-of-type {\n",
       "        vertical-align: middle;\n",
       "    }\n",
       "\n",
       "    .dataframe tbody tr th {\n",
       "        vertical-align: top;\n",
       "    }\n",
       "\n",
       "    .dataframe thead th {\n",
       "        text-align: right;\n",
       "    }\n",
       "</style>\n",
       "<table border=\"1\" class=\"dataframe\">\n",
       "  <thead>\n",
       "    <tr style=\"text-align: right;\">\n",
       "      <th></th>\n",
       "      <th>Neg_1</th>\n",
       "      <th>Pos_2</th>\n",
       "    </tr>\n",
       "  </thead>\n",
       "  <tbody>\n",
       "    <tr>\n",
       "      <th>0</th>\n",
       "      <td>0.5</td>\n",
       "      <td>0.5</td>\n",
       "    </tr>\n",
       "    <tr>\n",
       "      <th>1</th>\n",
       "      <td>0.1</td>\n",
       "      <td>0.9</td>\n",
       "    </tr>\n",
       "    <tr>\n",
       "      <th>2</th>\n",
       "      <td>0.7</td>\n",
       "      <td>0.3</td>\n",
       "    </tr>\n",
       "    <tr>\n",
       "      <th>3</th>\n",
       "      <td>0.3</td>\n",
       "      <td>0.7</td>\n",
       "    </tr>\n",
       "    <tr>\n",
       "      <th>4</th>\n",
       "      <td>0.6</td>\n",
       "      <td>0.4</td>\n",
       "    </tr>\n",
       "  </tbody>\n",
       "</table>\n",
       "</div>"
      ],
      "text/plain": [
       "   Neg_1  Pos_2\n",
       "0    0.5    0.5\n",
       "1    0.1    0.9\n",
       "2    0.7    0.3\n",
       "3    0.3    0.7\n",
       "4    0.6    0.4"
      ]
     },
     "execution_count": 45,
     "metadata": {},
     "output_type": "execute_result"
    }
   ],
   "source": [
    "# probability of positive and negative , use predict_proba instead of predict\n",
    "probs = pd.DataFrame(model.predict_proba(test_x),columns = ['Neg_1','Pos_2'])\n",
    "probs.head()\n",
    "#Prediction will be based on probability values ."
   ]
  },
  {
   "cell_type": "code",
   "execution_count": 55,
   "metadata": {},
   "outputs": [
    {
     "data": {
      "text/plain": [
       "0    0.5\n",
       "1    0.9\n",
       "2    0.3\n",
       "3    0.7\n",
       "4    0.4\n",
       "Name: Pos_2, dtype: float64"
      ]
     },
     "execution_count": 55,
     "metadata": {},
     "output_type": "execute_result"
    }
   ],
   "source": [
    "# take positive probability class alone , as we are trying to imporve Sensitivity. here the cut off value is 0.5 for the model\n",
    "# is to predict 1 or 2 . so we are tuning that value = 0.5 . \n",
    "probs['Pos_2'].head()\n"
   ]
  },
  {
   "cell_type": "code",
   "execution_count": 59,
   "metadata": {},
   "outputs": [
    {
     "name": "stdout",
     "output_type": "stream",
     "text": [
      "CUt_off 0.40,Sensitivity 48.1,Specificity 81.7\n"
     ]
    }
   ],
   "source": [
    "#Here we are reducing the cut off of 0.5 to 0.4 using a user definedfunction and try to find if there is any change in sens/spec\n",
    "\n",
    "cut_off = 0.4\n",
    "test_pred2 = probs['Pos_2'].apply(lambda v : 2 if v > cut_off else 1)\n",
    "test_pred2.head()\n",
    "tn,fp,fn,tp = confusion_matrix(test_y,test_pred2,labels=[1,2]).ravel()\n",
    "sensitivity = (tp) / (tp + fn)\n",
    "specificity = (tn) / (tn + fp)\n",
    "print('CUt_off %.2f,Sensitivity %.1f,Specificity %.1f' % (cut_off,sensitivity*100,specificity*100))"
   ]
  },
  {
   "cell_type": "markdown",
   "metadata": {},
   "source": [
    "## ROC Curve"
   ]
  },
  {
   "cell_type": "code",
   "execution_count": null,
   "metadata": {},
   "outputs": [],
   "source": [
    "# To choose the Best among the models\n",
    "# what is the cut off to choose within the model"
   ]
  },
  {
   "cell_type": "code",
   "execution_count": 78,
   "metadata": {},
   "outputs": [],
   "source": [
    "# For Cut off values of 1 to 0 , we are finding sens and spec values. MANUALLY\n",
    "\n",
    "cut_offs = []\n",
    "tpr = []\n",
    "fpr = []\n",
    "for cut_off in np.linspace(0,1,11): #np.linspace bwtween 0 and 1 , no of values\n",
    "    #print(cut_off)\n",
    "    test_pred2 = probs['Pos_2'].apply(lambda v : 2 if v > cut_off else 1)\n",
    "    tn,fp,fn,tp = confusion_matrix(test_y,test_pred2,labels=[1,2]).ravel()\n",
    "    sensitivity = (tp) / (tp + fn)\n",
    "    specificity = (tn) / (tn + fp)\n",
    "    #print('CUt_off %.2f,Sensitivity %.1f,Specificity %.1f' % (cut_off,sensitivity*100,specificity*100))\n",
    "    cut_offs.append(cut_off)\n",
    "    tpr.append(sensitivity)\n",
    "    fpr.append(1-specificity)\n",
    "#print(cut_offs)\n",
    "#print('-----')\n",
    "#print(tpr)\n",
    "#print('-----')\n",
    "#print('specificity')\n",
    "#print(fpr)\n",
    "\n",
    "## For 1 Model 1 ROC Curve\n",
    "\n",
    "#import matplotlib.pyplot as plt\n",
    "#plt.plot(fpr,tpr)\n",
    "\n",
    "# by looking at the numbers we cannot find the cut off value , hence using ROC curves\n",
    "#"
   ]
  },
  {
   "cell_type": "code",
   "execution_count": 72,
   "metadata": {},
   "outputs": [
    {
     "data": {
      "text/plain": [
       "[<matplotlib.lines.Line2D at 0x21f8521a080>]"
      ]
     },
     "execution_count": 72,
     "metadata": {},
     "output_type": "execute_result"
    },
    {
     "data": {
      "image/png": "[encoded data removed]",
      "text/plain": [
       "<Figure size 432x288 with 1 Axes>"
      ]
     },
     "metadata": {},
     "output_type": "display_data"
    }
   ],
   "source": [
    "# ROC Curve using sklearn\n",
    "from sklearn.metrics import roc_curve\n",
    "fpr,tpr,cut_offs = roc_curve(test_y,probs['Pos_2'],pos_label =2)\n",
    "plt.plot(fpr,tpr)"
   ]
  },
  {
   "cell_type": "code",
   "execution_count": 82,
   "metadata": {},
   "outputs": [
    {
     "ename": "TypeError",
     "evalue": "unsupported operand type(s) for -: 'int' and 'list'",
     "output_type": "error",
     "traceback": [
      "\u001b[1;31m---------------------------------------------------------------------------\u001b[0m",
      "\u001b[1;31mTypeError\u001b[0m                                 Traceback (most recent call last)",
      "\u001b[1;32m<ipython-input-82-5b31bc95d04c>\u001b[0m in \u001b[0;36m<module>\u001b[1;34m()\u001b[0m\n\u001b[0;32m      1\u001b[0m \u001b[1;31m# DataFrame\u001b[0m\u001b[1;33m\u001b[0m\u001b[1;33m\u001b[0m\u001b[0m\n\u001b[1;32m----> 2\u001b[1;33m \u001b[0mdf_roc\u001b[0m \u001b[1;33m=\u001b[0m \u001b[0mpd\u001b[0m\u001b[1;33m.\u001b[0m\u001b[0mDataFrame\u001b[0m\u001b[1;33m(\u001b[0m\u001b[1;33m{\u001b[0m\u001b[1;34m'cut_off'\u001b[0m\u001b[1;33m:\u001b[0m\u001b[0mcut_offs\u001b[0m\u001b[1;33m,\u001b[0m\u001b[1;34m'fpr'\u001b[0m\u001b[1;33m:\u001b[0m\u001b[0mfpr\u001b[0m\u001b[1;33m,\u001b[0m\u001b[1;34m'tpr'\u001b[0m\u001b[1;33m:\u001b[0m\u001b[0mtpr\u001b[0m\u001b[1;33m,\u001b[0m\u001b[1;34m'specificity'\u001b[0m\u001b[1;33m:\u001b[0m \u001b[1;36m1\u001b[0m \u001b[1;33m-\u001b[0m \u001b[0mfpr\u001b[0m\u001b[1;33m}\u001b[0m\u001b[1;33m)\u001b[0m\u001b[1;33m\u001b[0m\u001b[0m\n\u001b[0m\u001b[0;32m      3\u001b[0m \u001b[1;33m\u001b[0m\u001b[0m\n\u001b[0;32m      4\u001b[0m \u001b[0mdf_roc\u001b[0m\u001b[1;33m[\u001b[0m\u001b[1;34m'Youden_Index'\u001b[0m\u001b[1;33m]\u001b[0m \u001b[1;33m=\u001b[0m \u001b[0mdf_roc\u001b[0m\u001b[1;33m[\u001b[0m\u001b[1;34m'tpr'\u001b[0m\u001b[1;33m]\u001b[0m \u001b[1;33m+\u001b[0m \u001b[0mdf_roc\u001b[0m\u001b[1;33m[\u001b[0m\u001b[1;34m'specificity'\u001b[0m\u001b[1;33m]\u001b[0m \u001b[1;33m-\u001b[0m \u001b[1;36m1\u001b[0m\u001b[1;33m\u001b[0m\u001b[0m\n\u001b[0;32m      5\u001b[0m \u001b[1;33m\u001b[0m\u001b[0m\n",
      "\u001b[1;31mTypeError\u001b[0m: unsupported operand type(s) for -: 'int' and 'list'"
     ]
    }
   ],
   "source": [
    "# DataFrame\n",
    "df_roc = pd.DataFrame({'cut_off':cut_offs,'fpr':fpr,'tpr':tpr,'specificity': 1 - fpr })\n",
    "\n",
    "df_roc['Youden_Index'] = df_roc['tpr'] + df_roc['specificity'] - 1\n",
    "\n",
    "df_roc.sort_values(by='Youden_Index',ascending = False)\n",
    "\n",
    "## Cut off value found is 0.4"
   ]
  },
  {
   "cell_type": "code",
   "execution_count": 83,
   "metadata": {},
   "outputs": [],
   "source": [
    "# Optimal cut for this data is 0.4\n",
    "test_pred_opt = probs['Pos_2'].apply(lambda v : 2 if v > 0.4 else 1)"
   ]
  },
  {
   "cell_type": "code",
   "execution_count": null,
   "metadata": {},
   "outputs": [],
   "source": [
    "## Above is : WITHIN the MODEL how to have better sensitivity without reducing the specificity"
   ]
  },
  {
   "cell_type": "code",
   "execution_count": null,
   "metadata": {},
   "outputs": [],
   "source": [
    "# BElow is for Comparing between models"
   ]
  },
  {
   "cell_type": "markdown",
   "metadata": {},
   "source": [
    "### MODELS FOR CREDIT-DEFAULT"
   ]
  },
  {
   "cell_type": "code",
   "execution_count": 98,
   "metadata": {},
   "outputs": [
    {
     "name": "stdout",
     "output_type": "stream",
     "text": [
      "Random Forest AUC: 0.75\n",
      "AdaBoost AUC: 0.74\n",
      "DecisionTree AUC: 0.66\n"
     ]
    },
    {
     "data": {
      "image/png": "[encoded data removed]",
      "text/plain": [
       "<Figure size 432x288 with 1 Axes>"
      ]
     },
     "metadata": {},
     "output_type": "display_data"
    }
   ],
   "source": [
    "\n",
    "\n",
    "model1 = RandomForestClassifier(random_state = 100,n_estimators=1000)\n",
    "model1.fit(train_x,train_y)\n",
    "probs1 = pd.DataFrame(model1.predict_proba(test_x),columns=['Neg_1','Pos_2'])\n",
    "fpr,tpr,cutoffs  = roc_curve(test_y,probs1['Pos_2'],pos_label=2 )\n",
    "auc_rf = auc(fpr,tpr)\n",
    "plt.plot(fpr,tpr,color ='green')\n",
    "\n",
    "print('Random Forest AUC: %.2f' % auc_rf)\n",
    "\n",
    "\n",
    "model2 = AdaBoostClassifier(random_state = 100)\n",
    "model2.fit(train_x,train_y)\n",
    "probs2 = pd.DataFrame(model2.predict_proba(test_x),columns=['Neg_1','Pos_2'])\n",
    "fpr,tpr,cutoffs  = roc_curve(test_y,probs2['Pos_2'],pos_label=2 )\n",
    "auc_ada = auc(fpr,tpr)\n",
    "plt.plot(fpr,tpr,color ='red')\n",
    "\n",
    "print('AdaBoost AUC: %.2f' % auc_ada)\n",
    "\n",
    "model3 = DecisionTreeClassifier(random_state = 100)\n",
    "model3.fit(train_x,train_y)\n",
    "probs3 = pd.DataFrame(model3.predict_proba(test_x),columns=['Neg_1','Pos_2'])\n",
    "fpr,tpr,cutoffs  = roc_curve(test_y,probs3['Pos_2'],pos_label=2 )\n",
    "auc_dt = auc(fpr,tpr)\n",
    "plt.plot(fpr,tpr,color ='steelblue')\n",
    "\n",
    "print('DecisionTree AUC: %.2f' % auc_dt)"
   ]
  },
  {
   "cell_type": "markdown",
   "metadata": {},
   "source": [
    "### ROC CURVE for Comparison between models in HR DataSet"
   ]
  },
  {
   "cell_type": "code",
   "execution_count": 99,
   "metadata": {},
   "outputs": [],
   "source": [
    "hr = pd.read_csv('D:/Datasets/HRAnalytics.csv')"
   ]
  },
  {
   "cell_type": "code",
   "execution_count": 101,
   "metadata": {},
   "outputs": [],
   "source": [
    "hr_dummies = pd.get_dummies(hr)\n",
    "train, test = train_test_split(hr_dummies, test_size = 0.3, random_state = 100)\n",
    "\n",
    "train_y_hr = train['Attrition']\n",
    "test_y_hr = test['Attrition']\n",
    "\n",
    "train_x_hr = train.drop('Attrition', axis = 1)\n",
    "test_x_hr = test.drop('Attrition', axis = 1)"
   ]
  },
  {
   "cell_type": "code",
   "execution_count": null,
   "metadata": {},
   "outputs": [],
   "source": [
    "tes"
   ]
  },
  {
   "cell_type": "code",
   "execution_count": 108,
   "metadata": {},
   "outputs": [
    {
     "name": "stdout",
     "output_type": "stream",
     "text": [
      "Random Forest AUC HR: 0.74\n",
      "AdaBoost AUC HR: 0.78\n",
      "DecisionTree AUC HR: 0.65\n"
     ]
    },
    {
     "data": {
      "image/png": "[encoded data removed]",
      "text/plain": [
       "<Figure size 432x288 with 1 Axes>"
      ]
     },
     "metadata": {},
     "output_type": "display_data"
    }
   ],
   "source": [
    "#Random Forest\n",
    "\n",
    "model1_hr = RandomForestClassifier(random_state = 100)\n",
    "model1_hr.fit(train_x_hr,train_y_hr)\n",
    "probs1_hr = pd.DataFrame(model1_hr.predict_proba(test_x_hr),columns=['Neg_1','Pos_2'])\n",
    "#probs1_hr.head()\n",
    "fpr,tpr,cutoffs  = roc_curve(test_y_hr,probs1_hr['Pos_2'],pos_label=1 )\n",
    "auc_rf_hr = auc(fpr,tpr)\n",
    "plt.plot(fpr,tpr,color ='green')\n",
    "\n",
    "print('Random Forest AUC HR: %.2f' % auc_rf_hr)\n",
    "\n",
    "# AdaBoost\n",
    "\n",
    "model2_hr = AdaBoostClassifier(random_state = 100)\n",
    "model2_hr.fit(train_x_hr,train_y_hr)\n",
    "probs2_hr = pd.DataFrame(model2_hr.predict_proba(test_x_hr),columns=['Neg_1','Pos_2'])\n",
    "#probs1_hr.head()\n",
    "fpr,tpr,cutoffs  = roc_curve(test_y_hr,probs2_hr['Pos_2'],pos_label=1 )\n",
    "auc_ADA_hr = auc(fpr,tpr)\n",
    "plt.plot(fpr,tpr,color ='red')\n",
    "\n",
    "print('AdaBoost AUC HR: %.2f' % auc_ADA_hr)\n",
    "\n",
    "# Decision Tree\n",
    "\n",
    "model3_hr = DecisionTreeClassifier(random_state = 100)\n",
    "model3_hr.fit(train_x_hr,train_y_hr)\n",
    "probs3_hr = pd.DataFrame(model3_hr.predict_proba(test_x_hr),columns=['Neg_1','Pos_2'])\n",
    "#probs1_hr.head()\n",
    "fpr,tpr,cutoffs  = roc_curve(test_y_hr,probs3_hr['Pos_2'],pos_label=1 )\n",
    "auc_DT_hr = auc(fpr,tpr)\n",
    "plt.plot(fpr,tpr,color ='steelblue')\n",
    "\n",
    "print('DecisionTree AUC HR: %.2f' % auc_DT_hr)\n"
   ]
  },
  {
   "cell_type": "markdown",
   "metadata": {},
   "source": [
    "### ROC Models for Bank Data"
   ]
  },
  {
   "cell_type": "code",
   "execution_count": 110,
   "metadata": {},
   "outputs": [],
   "source": [
    "bank = pd.read_csv('D:/Datasets/bank-full.csv',sep = ';')"
   ]
  },
  {
   "cell_type": "code",
   "execution_count": 111,
   "metadata": {},
   "outputs": [
    {
     "data": {
      "text/html": [
       "<div>\n",
       "<style scoped>\n",
       "    .dataframe tbody tr th:only-of-type {\n",
       "        vertical-align: middle;\n",
       "    }\n",
       "\n",
       "    .dataframe tbody tr th {\n",
       "        vertical-align: top;\n",
       "    }\n",
       "\n",
       "    .dataframe thead th {\n",
       "        text-align: right;\n",
       "    }\n",
       "</style>\n",
       "<table border=\"1\" class=\"dataframe\">\n",
       "  <thead>\n",
       "    <tr style=\"text-align: right;\">\n",
       "      <th></th>\n",
       "      <th>age</th>\n",
       "      <th>job</th>\n",
       "      <th>marital</th>\n",
       "      <th>education</th>\n",
       "      <th>default</th>\n",
       "      <th>balance</th>\n",
       "      <th>housing</th>\n",
       "      <th>loan</th>\n",
       "      <th>contact</th>\n",
       "      <th>day</th>\n",
       "      <th>month</th>\n",
       "      <th>duration</th>\n",
       "      <th>campaign</th>\n",
       "      <th>pdays</th>\n",
       "      <th>previous</th>\n",
       "      <th>poutcome</th>\n",
       "      <th>y</th>\n",
       "    </tr>\n",
       "  </thead>\n",
       "  <tbody>\n",
       "    <tr>\n",
       "      <th>0</th>\n",
       "      <td>58</td>\n",
       "      <td>management</td>\n",
       "      <td>married</td>\n",
       "      <td>tertiary</td>\n",
       "      <td>no</td>\n",
       "      <td>2143</td>\n",
       "      <td>yes</td>\n",
       "      <td>no</td>\n",
       "      <td>unknown</td>\n",
       "      <td>5</td>\n",
       "      <td>may</td>\n",
       "      <td>261</td>\n",
       "      <td>1</td>\n",
       "      <td>-1</td>\n",
       "      <td>0</td>\n",
       "      <td>unknown</td>\n",
       "      <td>no</td>\n",
       "    </tr>\n",
       "    <tr>\n",
       "      <th>1</th>\n",
       "      <td>44</td>\n",
       "      <td>technician</td>\n",
       "      <td>single</td>\n",
       "      <td>secondary</td>\n",
       "      <td>no</td>\n",
       "      <td>29</td>\n",
       "      <td>yes</td>\n",
       "      <td>no</td>\n",
       "      <td>unknown</td>\n",
       "      <td>5</td>\n",
       "      <td>may</td>\n",
       "      <td>151</td>\n",
       "      <td>1</td>\n",
       "      <td>-1</td>\n",
       "      <td>0</td>\n",
       "      <td>unknown</td>\n",
       "      <td>no</td>\n",
       "    </tr>\n",
       "    <tr>\n",
       "      <th>2</th>\n",
       "      <td>33</td>\n",
       "      <td>entrepreneur</td>\n",
       "      <td>married</td>\n",
       "      <td>secondary</td>\n",
       "      <td>no</td>\n",
       "      <td>2</td>\n",
       "      <td>yes</td>\n",
       "      <td>yes</td>\n",
       "      <td>unknown</td>\n",
       "      <td>5</td>\n",
       "      <td>may</td>\n",
       "      <td>76</td>\n",
       "      <td>1</td>\n",
       "      <td>-1</td>\n",
       "      <td>0</td>\n",
       "      <td>unknown</td>\n",
       "      <td>no</td>\n",
       "    </tr>\n",
       "    <tr>\n",
       "      <th>3</th>\n",
       "      <td>47</td>\n",
       "      <td>blue-collar</td>\n",
       "      <td>married</td>\n",
       "      <td>unknown</td>\n",
       "      <td>no</td>\n",
       "      <td>1506</td>\n",
       "      <td>yes</td>\n",
       "      <td>no</td>\n",
       "      <td>unknown</td>\n",
       "      <td>5</td>\n",
       "      <td>may</td>\n",
       "      <td>92</td>\n",
       "      <td>1</td>\n",
       "      <td>-1</td>\n",
       "      <td>0</td>\n",
       "      <td>unknown</td>\n",
       "      <td>no</td>\n",
       "    </tr>\n",
       "    <tr>\n",
       "      <th>4</th>\n",
       "      <td>33</td>\n",
       "      <td>unknown</td>\n",
       "      <td>single</td>\n",
       "      <td>unknown</td>\n",
       "      <td>no</td>\n",
       "      <td>1</td>\n",
       "      <td>no</td>\n",
       "      <td>no</td>\n",
       "      <td>unknown</td>\n",
       "      <td>5</td>\n",
       "      <td>may</td>\n",
       "      <td>198</td>\n",
       "      <td>1</td>\n",
       "      <td>-1</td>\n",
       "      <td>0</td>\n",
       "      <td>unknown</td>\n",
       "      <td>no</td>\n",
       "    </tr>\n",
       "  </tbody>\n",
       "</table>\n",
       "</div>"
      ],
      "text/plain": [
       "   age           job  marital  education default  balance housing loan  \\\n",
       "0   58    management  married   tertiary      no     2143     yes   no   \n",
       "1   44    technician   single  secondary      no       29     yes   no   \n",
       "2   33  entrepreneur  married  secondary      no        2     yes  yes   \n",
       "3   47   blue-collar  married    unknown      no     1506     yes   no   \n",
       "4   33       unknown   single    unknown      no        1      no   no   \n",
       "\n",
       "   contact  day month  duration  campaign  pdays  previous poutcome   y  \n",
       "0  unknown    5   may       261         1     -1         0  unknown  no  \n",
       "1  unknown    5   may       151         1     -1         0  unknown  no  \n",
       "2  unknown    5   may        76         1     -1         0  unknown  no  \n",
       "3  unknown    5   may        92         1     -1         0  unknown  no  \n",
       "4  unknown    5   may       198         1     -1         0  unknown  no  "
      ]
     },
     "execution_count": 111,
     "metadata": {},
     "output_type": "execute_result"
    }
   ],
   "source": [
    "bank.head()"
   ]
  },
  {
   "cell_type": "code",
   "execution_count": 113,
   "metadata": {},
   "outputs": [
    {
     "name": "stdout",
     "output_type": "stream",
     "text": [
      "(45211, 52)\n"
     ]
    }
   ],
   "source": [
    "bank_new = bank.drop('y', axis = 1)\n",
    "bank_dummies = pd.get_dummies(bank_new)\n",
    "\n",
    "bank_dummies['y'] = bank['y']\n",
    "print(bank_dummies.shape)\n",
    "\n",
    "train, test = train_test_split(bank_dummies, test_size = 0.3, random_state = 100)\n",
    "\n",
    "train_y_bank = train['y']\n",
    "test_y_bank = test['y']\n",
    "train_x_bank = train.drop('y', axis = 1)\n",
    "test_x_bank = test.drop('y', axis = 1)"
   ]
  },
  {
   "cell_type": "code",
   "execution_count": 116,
   "metadata": {},
   "outputs": [
    {
     "name": "stdout",
     "output_type": "stream",
     "text": [
      "Random Forest Bank AUC : 0.93\n",
      "AdaBoost AUC BAnk: 0.91\n",
      "DecisionTree Bank AUC: 0.71\n"
     ]
    },
    {
     "data": {
      "image/png": "[encoded data removed]",
      "text/plain": [
       "<Figure size 432x288 with 1 Axes>"
      ]
     },
     "metadata": {},
     "output_type": "display_data"
    }
   ],
   "source": [
    "model1_bank = RandomForestClassifier(random_state = 100,n_estimators=1000)\n",
    "model1_bank.fit(train_x_bank,train_y_bank)\n",
    "probs1_bank = pd.DataFrame(model1_bank.predict_proba(test_x_bank),columns=['Neg_1','Pos_2'])\n",
    "fpr,tpr,cutoffs  = roc_curve(test_y_bank,probs1_bank['Pos_2'],pos_label='yes' )\n",
    "auc_rf_bank = auc(fpr,tpr)\n",
    "plt.plot(fpr,tpr,color ='green')\n",
    "\n",
    "print('Random Forest Bank AUC : %.2f' % auc_rf_bank)\n",
    "\n",
    "\n",
    "model2_bank = AdaBoostClassifier(random_state = 100)\n",
    "model2_bank.fit(train_x_bank,train_y_bank)\n",
    "probs2_bank = pd.DataFrame(model2_bank.predict_proba(test_x_bank),columns=['Neg_1','Pos_2'])\n",
    "fpr,tpr,cutoffs  = roc_curve(test_y_bank,probs2_bank['Pos_2'],pos_label='yes' )\n",
    "auc_ada_bank = auc(fpr,tpr)\n",
    "plt.plot(fpr,tpr,color ='red')\n",
    "\n",
    "print('AdaBoost AUC BAnk: %.2f' % auc_ada_bank)\n",
    "\n",
    "model3_bank = DecisionTreeClassifier(random_state = 100)\n",
    "model3_bank.fit(train_x_bank,train_y_bank)\n",
    "probs3_bank = pd.DataFrame(model3_bank.predict_proba(test_x_bank),columns=['Neg_1','Pos_2'])\n",
    "fpr,tpr,cutoffs  = roc_curve(test_y_bank,probs3_bank['Pos_2'],pos_label='yes' )\n",
    "auc_dt_bank = auc(fpr,tpr)\n",
    "plt.plot(fpr,tpr,color ='steelblue')\n",
    "\n",
    "print('DecisionTree Bank AUC: %.2f' % auc_dt_bank)"
   ]
  }
 ],
 "metadata": {
  "kernelspec": {
   "display_name": "Python 3",
   "language": "python",
   "name": "python3"
  },
  "language_info": {
   "codemirror_mode": {
    "name": "ipython",
    "version": 3
   },
   "file_extension": ".py",
   "mimetype": "text/x-python",
   "name": "python",
   "nbconvert_exporter": "python",
   "pygments_lexer": "ipython3",
   "version": "3.6.5"
  }
 },
 "nbformat": 4,
 "nbformat_minor": 2
}
