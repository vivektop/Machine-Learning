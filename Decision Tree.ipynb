{
 "cells": [
  {
   "cell_type": "code",
   "execution_count": 2,
   "metadata": {},
   "outputs": [],
   "source": [
    "import numpy as np\n",
    "import pandas as pd"
   ]
  },
  {
   "cell_type": "code",
   "execution_count": 3,
   "metadata": {},
   "outputs": [],
   "source": [
    "from sklearn.tree import DecisionTreeClassifier\n",
    "from sklearn.ensemble import RandomForestClassifier\n",
    "from sklearn.model_selection import train_test_split"
   ]
  },
  {
   "cell_type": "code",
   "execution_count": 6,
   "metadata": {},
   "outputs": [],
   "source": [
    "hr = pd.read_csv('D:/Datasets/HRAnalytics.csv')"
   ]
  },
  {
   "cell_type": "code",
   "execution_count": 4,
   "metadata": {},
   "outputs": [
    {
     "data": {
      "text/html": [
       "<div>\n",
       "<style scoped>\n",
       "    .dataframe tbody tr th:only-of-type {\n",
       "        vertical-align: middle;\n",
       "    }\n",
       "\n",
       "    .dataframe tbody tr th {\n",
       "        vertical-align: top;\n",
       "    }\n",
       "\n",
       "    .dataframe thead th {\n",
       "        text-align: right;\n",
       "    }\n",
       "</style>\n",
       "<table border=\"1\" class=\"dataframe\">\n",
       "  <thead>\n",
       "    <tr style=\"text-align: right;\">\n",
       "      <th></th>\n",
       "      <th>Age</th>\n",
       "      <th>Attrition</th>\n",
       "      <th>BusinessTravel</th>\n",
       "      <th>DailyRate</th>\n",
       "      <th>Department</th>\n",
       "      <th>DistanceFromHome</th>\n",
       "      <th>Education</th>\n",
       "      <th>EducationField</th>\n",
       "      <th>EmployeeCount</th>\n",
       "      <th>EmployeeNumber</th>\n",
       "      <th>...</th>\n",
       "      <th>RelationshipSatisfaction</th>\n",
       "      <th>StandardHours</th>\n",
       "      <th>StockOptionLevel</th>\n",
       "      <th>TotalWorkingYears</th>\n",
       "      <th>TrainingTimesLastYear</th>\n",
       "      <th>WorkLifeBalance</th>\n",
       "      <th>YearsAtCompany</th>\n",
       "      <th>YearsInCurrentRole</th>\n",
       "      <th>YearsSinceLastPromotion</th>\n",
       "      <th>YearsWithCurrManager</th>\n",
       "    </tr>\n",
       "  </thead>\n",
       "  <tbody>\n",
       "    <tr>\n",
       "      <th>0</th>\n",
       "      <td>41</td>\n",
       "      <td>1</td>\n",
       "      <td>Travel_Rarely</td>\n",
       "      <td>1102</td>\n",
       "      <td>Sales</td>\n",
       "      <td>1</td>\n",
       "      <td>2</td>\n",
       "      <td>Life Sciences</td>\n",
       "      <td>1</td>\n",
       "      <td>1</td>\n",
       "      <td>...</td>\n",
       "      <td>1</td>\n",
       "      <td>80</td>\n",
       "      <td>0</td>\n",
       "      <td>8</td>\n",
       "      <td>0</td>\n",
       "      <td>1</td>\n",
       "      <td>6</td>\n",
       "      <td>4</td>\n",
       "      <td>0</td>\n",
       "      <td>5</td>\n",
       "    </tr>\n",
       "    <tr>\n",
       "      <th>1</th>\n",
       "      <td>49</td>\n",
       "      <td>0</td>\n",
       "      <td>Travel_Frequently</td>\n",
       "      <td>279</td>\n",
       "      <td>Research &amp; Development</td>\n",
       "      <td>8</td>\n",
       "      <td>1</td>\n",
       "      <td>Life Sciences</td>\n",
       "      <td>1</td>\n",
       "      <td>2</td>\n",
       "      <td>...</td>\n",
       "      <td>4</td>\n",
       "      <td>80</td>\n",
       "      <td>1</td>\n",
       "      <td>10</td>\n",
       "      <td>3</td>\n",
       "      <td>3</td>\n",
       "      <td>10</td>\n",
       "      <td>7</td>\n",
       "      <td>1</td>\n",
       "      <td>7</td>\n",
       "    </tr>\n",
       "    <tr>\n",
       "      <th>2</th>\n",
       "      <td>37</td>\n",
       "      <td>1</td>\n",
       "      <td>Travel_Rarely</td>\n",
       "      <td>1373</td>\n",
       "      <td>Research &amp; Development</td>\n",
       "      <td>2</td>\n",
       "      <td>2</td>\n",
       "      <td>Other</td>\n",
       "      <td>1</td>\n",
       "      <td>4</td>\n",
       "      <td>...</td>\n",
       "      <td>2</td>\n",
       "      <td>80</td>\n",
       "      <td>0</td>\n",
       "      <td>7</td>\n",
       "      <td>3</td>\n",
       "      <td>3</td>\n",
       "      <td>0</td>\n",
       "      <td>0</td>\n",
       "      <td>0</td>\n",
       "      <td>0</td>\n",
       "    </tr>\n",
       "    <tr>\n",
       "      <th>3</th>\n",
       "      <td>33</td>\n",
       "      <td>0</td>\n",
       "      <td>Travel_Frequently</td>\n",
       "      <td>1392</td>\n",
       "      <td>Research &amp; Development</td>\n",
       "      <td>3</td>\n",
       "      <td>4</td>\n",
       "      <td>Life Sciences</td>\n",
       "      <td>1</td>\n",
       "      <td>5</td>\n",
       "      <td>...</td>\n",
       "      <td>3</td>\n",
       "      <td>80</td>\n",
       "      <td>0</td>\n",
       "      <td>8</td>\n",
       "      <td>3</td>\n",
       "      <td>3</td>\n",
       "      <td>8</td>\n",
       "      <td>7</td>\n",
       "      <td>3</td>\n",
       "      <td>0</td>\n",
       "    </tr>\n",
       "    <tr>\n",
       "      <th>4</th>\n",
       "      <td>27</td>\n",
       "      <td>0</td>\n",
       "      <td>Travel_Rarely</td>\n",
       "      <td>591</td>\n",
       "      <td>Research &amp; Development</td>\n",
       "      <td>2</td>\n",
       "      <td>1</td>\n",
       "      <td>Medical</td>\n",
       "      <td>1</td>\n",
       "      <td>7</td>\n",
       "      <td>...</td>\n",
       "      <td>4</td>\n",
       "      <td>80</td>\n",
       "      <td>1</td>\n",
       "      <td>6</td>\n",
       "      <td>3</td>\n",
       "      <td>3</td>\n",
       "      <td>2</td>\n",
       "      <td>2</td>\n",
       "      <td>2</td>\n",
       "      <td>2</td>\n",
       "    </tr>\n",
       "  </tbody>\n",
       "</table>\n",
       "<p>5 rows × 35 columns</p>\n",
       "</div>"
      ],
      "text/plain": [
       "   Age  Attrition     BusinessTravel  DailyRate              Department  \\\n",
       "0   41          1      Travel_Rarely       1102                   Sales   \n",
       "1   49          0  Travel_Frequently        279  Research & Development   \n",
       "2   37          1      Travel_Rarely       1373  Research & Development   \n",
       "3   33          0  Travel_Frequently       1392  Research & Development   \n",
       "4   27          0      Travel_Rarely        591  Research & Development   \n",
       "\n",
       "   DistanceFromHome  Education EducationField  EmployeeCount  EmployeeNumber  \\\n",
       "0                 1          2  Life Sciences              1               1   \n",
       "1                 8          1  Life Sciences              1               2   \n",
       "2                 2          2          Other              1               4   \n",
       "3                 3          4  Life Sciences              1               5   \n",
       "4                 2          1        Medical              1               7   \n",
       "\n",
       "           ...           RelationshipSatisfaction StandardHours  \\\n",
       "0          ...                                  1            80   \n",
       "1          ...                                  4            80   \n",
       "2          ...                                  2            80   \n",
       "3          ...                                  3            80   \n",
       "4          ...                                  4            80   \n",
       "\n",
       "   StockOptionLevel  TotalWorkingYears  TrainingTimesLastYear WorkLifeBalance  \\\n",
       "0                 0                  8                      0               1   \n",
       "1                 1                 10                      3               3   \n",
       "2                 0                  7                      3               3   \n",
       "3                 0                  8                      3               3   \n",
       "4                 1                  6                      3               3   \n",
       "\n",
       "   YearsAtCompany YearsInCurrentRole  YearsSinceLastPromotion  \\\n",
       "0               6                  4                        0   \n",
       "1              10                  7                        1   \n",
       "2               0                  0                        0   \n",
       "3               8                  7                        3   \n",
       "4               2                  2                        2   \n",
       "\n",
       "   YearsWithCurrManager  \n",
       "0                     5  \n",
       "1                     7  \n",
       "2                     0  \n",
       "3                     0  \n",
       "4                     2  \n",
       "\n",
       "[5 rows x 35 columns]"
      ]
     },
     "execution_count": 4,
     "metadata": {},
     "output_type": "execute_result"
    }
   ],
   "source": [
    "hr.head()"
   ]
  },
  {
   "cell_type": "code",
   "execution_count": 15,
   "metadata": {},
   "outputs": [
    {
     "data": {
      "text/plain": [
       "85.71428571428571"
      ]
     },
     "execution_count": 15,
     "metadata": {},
     "output_type": "execute_result"
    }
   ],
   "source": [
    "hr_dummies = pd.get_dummies(hr)\n",
    "train, test = train_test_split(hr_dummies, test_size = 0.3, random_state = 100)\n",
    "train_y = train['Attrition']\n",
    "test_y = test['Attrition']\n",
    "\n",
    "train_x = train.drop('Attrition', axis = 1)\n",
    "test_x = test.drop('Attrition', axis = 1)\n",
    "\n",
    "from sklearn.ensemble import RandomForestClassifier\n",
    "model_rf = RandomForestClassifier(random_state=100)\n",
    "model_rf.fit(train_x, train_y)\n",
    "\n",
    "test_pred = model_rf.predict(test_x)\n",
    "df_pred = pd.DataFrame({'actual' : test_y,\n",
    "                       'predicted' : test_pred})\n",
    "df_pred['pred_status'] = df_pred['actual'] == df_pred['predicted']\n",
    "df_pred['pred_status'].sum() / df_pred.shape[0] * 100"
   ]
  },
  {
   "cell_type": "code",
   "execution_count": 18,
   "metadata": {},
   "outputs": [
    {
     "data": {
      "text/html": [
       "<div>\n",
       "<style scoped>\n",
       "    .dataframe tbody tr th:only-of-type {\n",
       "        vertical-align: middle;\n",
       "    }\n",
       "\n",
       "    .dataframe tbody tr th {\n",
       "        vertical-align: top;\n",
       "    }\n",
       "\n",
       "    .dataframe thead th {\n",
       "        text-align: right;\n",
       "    }\n",
       "</style>\n",
       "<table border=\"1\" class=\"dataframe\">\n",
       "  <thead>\n",
       "    <tr style=\"text-align: right;\">\n",
       "      <th></th>\n",
       "      <th>actual</th>\n",
       "      <th>predicted</th>\n",
       "      <th>pred_status</th>\n",
       "    </tr>\n",
       "  </thead>\n",
       "  <tbody>\n",
       "    <tr>\n",
       "      <th>880</th>\n",
       "      <td>0</td>\n",
       "      <td>0</td>\n",
       "      <td>True</td>\n",
       "    </tr>\n",
       "    <tr>\n",
       "      <th>152</th>\n",
       "      <td>0</td>\n",
       "      <td>0</td>\n",
       "      <td>True</td>\n",
       "    </tr>\n",
       "    <tr>\n",
       "      <th>1466</th>\n",
       "      <td>0</td>\n",
       "      <td>0</td>\n",
       "      <td>True</td>\n",
       "    </tr>\n",
       "    <tr>\n",
       "      <th>1084</th>\n",
       "      <td>0</td>\n",
       "      <td>0</td>\n",
       "      <td>True</td>\n",
       "    </tr>\n",
       "    <tr>\n",
       "      <th>1086</th>\n",
       "      <td>0</td>\n",
       "      <td>0</td>\n",
       "      <td>True</td>\n",
       "    </tr>\n",
       "  </tbody>\n",
       "</table>\n",
       "</div>"
      ],
      "text/plain": [
       "      actual  predicted  pred_status\n",
       "880        0          0         True\n",
       "152        0          0         True\n",
       "1466       0          0         True\n",
       "1084       0          0         True\n",
       "1086       0          0         True"
      ]
     },
     "execution_count": 18,
     "metadata": {},
     "output_type": "execute_result"
    }
   ],
   "source": [
    "df_pred.head()"
   ]
  },
  {
   "cell_type": "code",
   "execution_count": 16,
   "metadata": {},
   "outputs": [
    {
     "data": {
      "text/plain": [
       "array([[367,   4],\n",
       "       [ 59,  11]], dtype=int64)"
      ]
     },
     "execution_count": 16,
     "metadata": {},
     "output_type": "execute_result"
    }
   ],
   "source": [
    "## Build a confusion Matrix and find the number of TP,TN,FP,FN\n",
    "\n",
    "from sklearn.metrics import confusion_matrix\n",
    "confusion_matrix(df_pred['actual'],df_pred['predicted'])"
   ]
  },
  {
   "cell_type": "code",
   "execution_count": 17,
   "metadata": {},
   "outputs": [
    {
     "name": "stdout",
     "output_type": "stream",
     "text": [
      "True Positive 11\n",
      "True Negative 367\n",
      "False Positive 4\n",
      "False Negative 59\n"
     ]
    }
   ],
   "source": [
    "#True Positive\n",
    "tp = df_pred[(df_pred['predicted']==1) & (df_pred['actual']==1)].shape[0]\n",
    "# True Negative\n",
    "tn = df_pred[(df_pred['predicted']==0) & (df_pred['actual']==0)].shape[0]\n",
    "#False Postive\n",
    "fp = df_pred[(df_pred['predicted']==1) & (df_pred['actual']==0)].shape[0]\n",
    "#False Negative\n",
    "fn = df_pred[(df_pred['predicted']==0) & (df_pred['actual']==1)].shape[0]\n",
    "\n",
    "print('True Positive %d' % tp)\n",
    "print('True Negative %d' % tn)\n",
    "print('False Positive %d' % fp)\n",
    "print('False Negative %d' % fn)"
   ]
  },
  {
   "cell_type": "code",
   "execution_count": 20,
   "metadata": {},
   "outputs": [
    {
     "name": "stdout",
     "output_type": "stream",
     "text": [
      "367 4 59 11\n"
     ]
    }
   ],
   "source": [
    "# Confusion Matrix function from sklearn package\n",
    "tn,fp,fn,tp = confusion_matrix(df_pred['actual'],df_pred['predicted']).ravel()\n",
    "print(tn,fp,fn,tp)"
   ]
  },
  {
   "cell_type": "code",
   "execution_count": 21,
   "metadata": {},
   "outputs": [
    {
     "name": "stdout",
     "output_type": "stream",
     "text": [
      "             precision    recall  f1-score   support\n",
      "\n",
      "          0       0.86      0.99      0.92       371\n",
      "          1       0.73      0.16      0.26        70\n",
      "\n",
      "avg / total       0.84      0.86      0.82       441\n",
      "\n"
     ]
    }
   ],
   "source": [
    "# report in sklearn\n",
    "from sklearn.metrics import classification_report\n",
    "print(classification_report(df_pred['actual'],df_pred['predicted']))"
   ]
  },
  {
   "cell_type": "code",
   "execution_count": null,
   "metadata": {},
   "outputs": [],
   "source": [
    "# Banking Dataset , build a decision tree,Random Forest and adaptive boost model "
   ]
  },
  {
   "cell_type": "markdown",
   "metadata": {},
   "source": [
    "### ADAPTIVE BOOST ( AdaBoost)"
   ]
  },
  {
   "cell_type": "code",
   "execution_count": 22,
   "metadata": {},
   "outputs": [],
   "source": [
    "from sklearn.ensemble import AdaBoostClassifier"
   ]
  },
  {
   "cell_type": "code",
   "execution_count": 27,
   "metadata": {},
   "outputs": [
    {
     "data": {
      "text/plain": [
       "(352, 19, 43, 27)"
      ]
     },
     "execution_count": 27,
     "metadata": {},
     "output_type": "execute_result"
    }
   ],
   "source": [
    "model  = AdaBoostClassifier(random_state=100)\n",
    "model.fit(train_x,train_y)\n",
    "test_pred = model.predict(test_x)\n",
    "tn,fp,fn,tp = confusion_matrix(test_y,test_pred).ravel() # ravel is for flattening\n",
    "tn,fp,fn,tp"
   ]
  },
  {
   "cell_type": "code",
   "execution_count": 28,
   "metadata": {},
   "outputs": [
    {
     "data": {
      "text/plain": [
       "0.8594104308390023"
      ]
     },
     "execution_count": 28,
     "metadata": {},
     "output_type": "execute_result"
    }
   ],
   "source": [
    "acc = (tp + tn) / (tp + tn + fp + fn)\n",
    "acc"
   ]
  },
  {
   "cell_type": "code",
   "execution_count": 29,
   "metadata": {},
   "outputs": [
    {
     "data": {
      "text/plain": [
       "0.38571428571428573"
      ]
     },
     "execution_count": 29,
     "metadata": {},
     "output_type": "execute_result"
    }
   ],
   "source": [
    "sensitivity = tp / (tp + fn)\n",
    "sensitivity"
   ]
  },
  {
   "cell_type": "markdown",
   "metadata": {},
   "source": [
    "### BANKING DATASET : Decision Tree , Random Forest and AdaptiveBoosting Models"
   ]
  },
  {
   "cell_type": "code",
   "execution_count": 7,
   "metadata": {},
   "outputs": [],
   "source": [
    "bank = pd.read_csv('D:/Datasets/bank-full.csv',sep = ';')"
   ]
  },
  {
   "cell_type": "code",
   "execution_count": 33,
   "metadata": {},
   "outputs": [
    {
     "data": {
      "text/html": [
       "<div>\n",
       "<style scoped>\n",
       "    .dataframe tbody tr th:only-of-type {\n",
       "        vertical-align: middle;\n",
       "    }\n",
       "\n",
       "    .dataframe tbody tr th {\n",
       "        vertical-align: top;\n",
       "    }\n",
       "\n",
       "    .dataframe thead th {\n",
       "        text-align: right;\n",
       "    }\n",
       "</style>\n",
       "<table border=\"1\" class=\"dataframe\">\n",
       "  <thead>\n",
       "    <tr style=\"text-align: right;\">\n",
       "      <th></th>\n",
       "      <th>age</th>\n",
       "      <th>job</th>\n",
       "      <th>marital</th>\n",
       "      <th>education</th>\n",
       "      <th>default</th>\n",
       "      <th>balance</th>\n",
       "      <th>housing</th>\n",
       "      <th>loan</th>\n",
       "      <th>contact</th>\n",
       "      <th>day</th>\n",
       "      <th>month</th>\n",
       "      <th>duration</th>\n",
       "      <th>campaign</th>\n",
       "      <th>pdays</th>\n",
       "      <th>previous</th>\n",
       "      <th>poutcome</th>\n",
       "      <th>y</th>\n",
       "    </tr>\n",
       "  </thead>\n",
       "  <tbody>\n",
       "    <tr>\n",
       "      <th>0</th>\n",
       "      <td>58</td>\n",
       "      <td>management</td>\n",
       "      <td>married</td>\n",
       "      <td>tertiary</td>\n",
       "      <td>no</td>\n",
       "      <td>2143</td>\n",
       "      <td>yes</td>\n",
       "      <td>no</td>\n",
       "      <td>unknown</td>\n",
       "      <td>5</td>\n",
       "      <td>may</td>\n",
       "      <td>261</td>\n",
       "      <td>1</td>\n",
       "      <td>-1</td>\n",
       "      <td>0</td>\n",
       "      <td>unknown</td>\n",
       "      <td>no</td>\n",
       "    </tr>\n",
       "    <tr>\n",
       "      <th>1</th>\n",
       "      <td>44</td>\n",
       "      <td>technician</td>\n",
       "      <td>single</td>\n",
       "      <td>secondary</td>\n",
       "      <td>no</td>\n",
       "      <td>29</td>\n",
       "      <td>yes</td>\n",
       "      <td>no</td>\n",
       "      <td>unknown</td>\n",
       "      <td>5</td>\n",
       "      <td>may</td>\n",
       "      <td>151</td>\n",
       "      <td>1</td>\n",
       "      <td>-1</td>\n",
       "      <td>0</td>\n",
       "      <td>unknown</td>\n",
       "      <td>no</td>\n",
       "    </tr>\n",
       "    <tr>\n",
       "      <th>2</th>\n",
       "      <td>33</td>\n",
       "      <td>entrepreneur</td>\n",
       "      <td>married</td>\n",
       "      <td>secondary</td>\n",
       "      <td>no</td>\n",
       "      <td>2</td>\n",
       "      <td>yes</td>\n",
       "      <td>yes</td>\n",
       "      <td>unknown</td>\n",
       "      <td>5</td>\n",
       "      <td>may</td>\n",
       "      <td>76</td>\n",
       "      <td>1</td>\n",
       "      <td>-1</td>\n",
       "      <td>0</td>\n",
       "      <td>unknown</td>\n",
       "      <td>no</td>\n",
       "    </tr>\n",
       "    <tr>\n",
       "      <th>3</th>\n",
       "      <td>47</td>\n",
       "      <td>blue-collar</td>\n",
       "      <td>married</td>\n",
       "      <td>unknown</td>\n",
       "      <td>no</td>\n",
       "      <td>1506</td>\n",
       "      <td>yes</td>\n",
       "      <td>no</td>\n",
       "      <td>unknown</td>\n",
       "      <td>5</td>\n",
       "      <td>may</td>\n",
       "      <td>92</td>\n",
       "      <td>1</td>\n",
       "      <td>-1</td>\n",
       "      <td>0</td>\n",
       "      <td>unknown</td>\n",
       "      <td>no</td>\n",
       "    </tr>\n",
       "    <tr>\n",
       "      <th>4</th>\n",
       "      <td>33</td>\n",
       "      <td>unknown</td>\n",
       "      <td>single</td>\n",
       "      <td>unknown</td>\n",
       "      <td>no</td>\n",
       "      <td>1</td>\n",
       "      <td>no</td>\n",
       "      <td>no</td>\n",
       "      <td>unknown</td>\n",
       "      <td>5</td>\n",
       "      <td>may</td>\n",
       "      <td>198</td>\n",
       "      <td>1</td>\n",
       "      <td>-1</td>\n",
       "      <td>0</td>\n",
       "      <td>unknown</td>\n",
       "      <td>no</td>\n",
       "    </tr>\n",
       "  </tbody>\n",
       "</table>\n",
       "</div>"
      ],
      "text/plain": [
       "   age           job  marital  education default  balance housing loan  \\\n",
       "0   58    management  married   tertiary      no     2143     yes   no   \n",
       "1   44    technician   single  secondary      no       29     yes   no   \n",
       "2   33  entrepreneur  married  secondary      no        2     yes  yes   \n",
       "3   47   blue-collar  married    unknown      no     1506     yes   no   \n",
       "4   33       unknown   single    unknown      no        1      no   no   \n",
       "\n",
       "   contact  day month  duration  campaign  pdays  previous poutcome   y  \n",
       "0  unknown    5   may       261         1     -1         0  unknown  no  \n",
       "1  unknown    5   may       151         1     -1         0  unknown  no  \n",
       "2  unknown    5   may        76         1     -1         0  unknown  no  \n",
       "3  unknown    5   may        92         1     -1         0  unknown  no  \n",
       "4  unknown    5   may       198         1     -1         0  unknown  no  "
      ]
     },
     "execution_count": 33,
     "metadata": {},
     "output_type": "execute_result"
    }
   ],
   "source": [
    "bank.head()"
   ]
  },
  {
   "cell_type": "markdown",
   "metadata": {},
   "source": [
    "## Decision Tree"
   ]
  },
  {
   "cell_type": "code",
   "execution_count": 19,
   "metadata": {},
   "outputs": [
    {
     "name": "stdout",
     "output_type": "stream",
     "text": [
      "(45211, 52)\n"
     ]
    },
    {
     "data": {
      "text/plain": [
       "87.72485992332645"
      ]
     },
     "execution_count": 19,
     "metadata": {},
     "output_type": "execute_result"
    }
   ],
   "source": [
    "bank_new = bank.drop('y', axis = 1)\n",
    "bank_dummies = pd.get_dummies(bank_new)\n",
    "\n",
    "bank_dummies['y'] = bank['y']\n",
    "print(bank_dummies.shape)\n",
    "\n",
    "train, test = train_test_split(bank_dummies, test_size = 0.3, random_state = 100)\n",
    "\n",
    "train_y = train['y']\n",
    "test_y = test['y']\n",
    "train_x = train.drop('y', axis = 1)\n",
    "test_x = test.drop('y', axis = 1)\n",
    "\n",
    "model = DecisionTreeClassifier(random_state=100)\n",
    "model.fit(train_x, train_y)\n",
    "\n",
    "test_pred = model.predict(test_x)\n",
    "df_pred = pd.DataFrame({'actual' : test_y,\n",
    "                       'predicted' : test_pred})\n",
    "df_pred['pred_status'] = df_pred['actual'] == df_pred['predicted']\n",
    "acc = df_pred['pred_status'].sum() / df_pred.shape[0] * 100\n",
    "acc"
   ]
  },
  {
   "cell_type": "markdown",
   "metadata": {},
   "source": [
    "### Parameters"
   ]
  },
  {
   "cell_type": "code",
   "execution_count": 20,
   "metadata": {},
   "outputs": [
    {
     "name": "stdout",
     "output_type": "stream",
     "text": [
      "True Positive 775\n",
      "True Negative 11124\n",
      "False Positive 861\n",
      "False Negative 804\n",
      "Accuracy 0.8772485992332645\n",
      "Sensitivity 0.4908169727675744\n",
      "Specificity 0.9281602002503129\n"
     ]
    }
   ],
   "source": [
    "#True Positive\n",
    "tp_dt = df_pred[(df_pred['predicted']=='yes') & (df_pred['actual']=='yes')].shape[0]\n",
    "# True Negative\n",
    "tn_dt = df_pred[(df_pred['predicted']=='no') & (df_pred['actual']=='no')].shape[0]\n",
    "#False Postive\n",
    "fp_dt = df_pred[(df_pred['predicted']=='yes') & (df_pred['actual']=='no')].shape[0]\n",
    "#False Negative\n",
    "fn_dt = df_pred[(df_pred['predicted']=='no') & (df_pred['actual']=='yes')].shape[0]\n",
    "\n",
    "print('True Positive %d' % tp_dt)\n",
    "print('True Negative %d' % tn_dt)\n",
    "print('False Positive %d' % fp_dt)\n",
    "print('False Negative %d' % fn_dt)\n",
    "\n",
    "acc_dt = (tp_dt + tn_dt) / (tp_dt + tn_dt + fp_dt + fn_dt)\n",
    "print('Accuracy',acc_dt)\n",
    "\n",
    "sensitivity_dt = tp_dt / (tp_dt + fn_dt)\n",
    "print('Sensitivity',sensitivity_dt)\n",
    "\n",
    "spec_dt = tn_dt/(fp_dt + tn_dt)\n",
    "print('Specificity',spec_dt)"
   ]
  },
  {
   "cell_type": "markdown",
   "metadata": {},
   "source": [
    "## Random Forest"
   ]
  },
  {
   "cell_type": "code",
   "execution_count": 21,
   "metadata": {},
   "outputs": [
    {
     "data": {
      "text/plain": [
       "89.97345915659098"
      ]
     },
     "execution_count": 21,
     "metadata": {},
     "output_type": "execute_result"
    }
   ],
   "source": [
    "from sklearn.ensemble import RandomForestClassifier\n",
    "model_rf = RandomForestClassifier(random_state=100)\n",
    "model_rf.fit(train_x, train_y)\n",
    "\n",
    "test_pred = model_rf.predict(test_x)\n",
    "df_pred1 = pd.DataFrame({'actual' : test_y,\n",
    "                       'predicted' : test_pred})\n",
    "df_pred1['pred_status'] = df_pred1['actual'] == df_pred1['predicted']\n",
    "df_pred1['pred_status'].sum() / df_pred1.shape[0] * 100"
   ]
  },
  {
   "cell_type": "markdown",
   "metadata": {},
   "source": [
    "### Parameters"
   ]
  },
  {
   "cell_type": "code",
   "execution_count": 22,
   "metadata": {},
   "outputs": [
    {
     "name": "stdout",
     "output_type": "stream",
     "text": [
      "True Positive 561\n",
      "True Negative 11643\n",
      "False Positive 342\n",
      "False Negative 1018\n",
      "Accuracy 0.8997345915659097\n",
      "Sensitivity 0.3552881570614313\n",
      "Specificity 0.9714643304130163\n"
     ]
    }
   ],
   "source": [
    "#True Positive\n",
    "tp_rf = df_pred1[(df_pred1['predicted']=='yes') & (df_pred1['actual']=='yes')].shape[0]\n",
    "# True Negative\n",
    "tn_rf = df_pred1[(df_pred1['predicted']=='no') & (df_pred1['actual']=='no')].shape[0]\n",
    "#False Postive\n",
    "fp_rf = df_pred1[(df_pred1['predicted']=='yes') & (df_pred1['actual']=='no')].shape[0]\n",
    "#False Negative\n",
    "fn_rf = df_pred1[(df_pred1['predicted']=='no') & (df_pred1['actual']=='yes')].shape[0]\n",
    "\n",
    "print('True Positive %d' % tp_rf)\n",
    "print('True Negative %d' % tn_rf)\n",
    "print('False Positive %d' % fp_rf)\n",
    "print('False Negative %d' % fn_rf)\n",
    "\n",
    "acc_rf = (tp_rf + tn_rf) / (tp_rf + tn_rf + fp_rf + fn_rf)\n",
    "print('Accuracy',acc_rf)\n",
    "\n",
    "sensitivity_rf = tp_rf / (tp_rf + fn_rf)\n",
    "print('Sensitivity',sensitivity_rf)\n",
    "\n",
    "spec_rf = tn_rf/(fp_rf + tn_rf)\n",
    "print('Specificity',spec_rf)"
   ]
  },
  {
   "cell_type": "markdown",
   "metadata": {},
   "source": [
    "## AdaBoost"
   ]
  },
  {
   "cell_type": "code",
   "execution_count": 23,
   "metadata": {},
   "outputs": [
    {
     "data": {
      "text/plain": [
       "89.72279563550575"
      ]
     },
     "execution_count": 23,
     "metadata": {},
     "output_type": "execute_result"
    }
   ],
   "source": [
    "from sklearn.ensemble import AdaBoostClassifier\n",
    "model_ab  = AdaBoostClassifier(random_state=100)\n",
    "model_ab.fit(train_x,train_y)\n",
    "test_pred = model_ab.predict(test_x)\n",
    "df_pred2 = pd.DataFrame({'actual' : test_y,\n",
    "                       'predicted' : test_pred})\n",
    "df_pred2['pred_status'] = df_pred2['actual'] == df_pred2['predicted']\n",
    "df_pred2['pred_status'].sum() / df_pred2.shape[0] * 100\n",
    "#tn,fp,fn,tp = confusion_matrix(test_y,test_pred).ravel() # ravel is for flattening\n",
    "#tn,fp,fn,tp"
   ]
  },
  {
   "cell_type": "markdown",
   "metadata": {},
   "source": [
    "### Parameters"
   ]
  },
  {
   "cell_type": "code",
   "execution_count": 24,
   "metadata": {},
   "outputs": [
    {
     "name": "stdout",
     "output_type": "stream",
     "text": [
      "True Positive 585\n",
      "True Negative 11585\n",
      "False Positive 400\n",
      "False Negative 1018\n",
      "Accuracy 0.8956432146011186\n",
      "Sensitivity 0.3649407361197754\n",
      "Specificity 0.966624947851481\n"
     ]
    }
   ],
   "source": [
    "#True Positive\n",
    "tp_ab = df_pred2[(df_pred2['predicted']=='yes') & (df_pred2['actual']=='yes')].shape[0]\n",
    "# True Negative\n",
    "tn_ab = df_pred2[(df_pred2['predicted']=='no') & (df_pred2['actual']=='no')].shape[0]\n",
    "#False Postive\n",
    "fp_ab = df_pred2[(df_pred2['predicted']=='yes') & (df_pred2['actual']=='no')].shape[0]\n",
    "#False Negative\n",
    "fn_ab = df_pred2[(df_pred1['predicted']=='no') & (df_pred2['actual']=='yes')].shape[0]\n",
    "\n",
    "print('True Positive %d' % tp_ab)\n",
    "print('True Negative %d' % tn_ab)\n",
    "print('False Positive %d' % fp_ab)\n",
    "print('False Negative %d' % fn_ab)\n",
    "\n",
    "acc_ab = (tp_ab + tn_ab) / (tp_ab + tn_ab + fp_ab + fn_ab)\n",
    "print('Accuracy',acc_ab)\n",
    "\n",
    "sensitivity_ab = tp_ab / (tp_ab + fn_ab)\n",
    "print('Sensitivity',sensitivity_ab)\n",
    "\n",
    "spec_ab = tn_ab/(fp_ab + tn_ab)\n",
    "print('Specificity',spec_ab)"
   ]
  },
  {
   "cell_type": "markdown",
   "metadata": {},
   "source": [
    "# KNN"
   ]
  },
  {
   "cell_type": "code",
   "execution_count": 14,
   "metadata": {},
   "outputs": [],
   "source": [
    "#Knn\n",
    "\n",
    "from sklearn.neighbors import KNeighborsClassifier"
   ]
  },
  {
   "cell_type": "code",
   "execution_count": 8,
   "metadata": {},
   "outputs": [
    {
     "name": "stdout",
     "output_type": "stream",
     "text": [
      "(45211, 52)\n"
     ]
    }
   ],
   "source": [
    "bank_new = bank.drop('y', axis = 1)\n",
    "bank_dummies = pd.get_dummies(bank_new)\n",
    "\n",
    "bank_dummies['y'] = bank['y']\n",
    "print(bank_dummies.shape)\n",
    "\n",
    "train, test = train_test_split(bank_dummies, test_size = 0.3, random_state = 100)\n",
    "\n",
    "train_y = train['y']\n",
    "test_y = test['y']\n",
    "train_x = train.drop('y', axis = 1)\n",
    "test_x = test.drop('y', axis = 1)"
   ]
  },
  {
   "cell_type": "code",
   "execution_count": 12,
   "metadata": {},
   "outputs": [],
   "source": [
    "from sklearn.preprocessing import StandardScaler\n",
    "scaler = StandardScaler()\n",
    "bank_scaled = scaler.fit_transform(bank_dummies.drop('y', axis=1))\n",
    "bank_scaled = pd.DataFrame(bank_scaled, \n",
    "                         columns=bank_dummies.drop('y', axis=1).columns)\n",
    "bank_scaled['y'] = bank['y']\n",
    "#hr_scaled.head(1)"
   ]
  },
  {
   "cell_type": "code",
   "execution_count": 17,
   "metadata": {},
   "outputs": [
    {
     "name": "stdout",
     "output_type": "stream",
     "text": [
      "True Positive 434\n",
      "True Negative 11510\n",
      "False Positive 475\n",
      "False Negative 1145\n",
      "Accuracy 0.8805662046593925\n",
      "Sensitivity 0.27485750474984166\n",
      "Specificity 0.9603671255736337\n"
     ]
    }
   ],
   "source": [
    "model_knn = KNeighborsClassifier(n_neighbors=5)\n",
    "\n",
    "model_knn.fit(train_x, train_y)\n",
    "\n",
    "test_pred_knn = model_knn.predict(test_x)\n",
    "\n",
    "df_pred_knn = pd.DataFrame({'actual': test_y,\n",
    "                        'predicted': test_pred_knn})\n",
    "\n",
    "df_pred_knn['pred_status'] = df_pred_knn['actual'] == df_pred_knn['predicted']\n",
    "\n",
    "## true positive\n",
    "tp_knn = df_pred_knn[(df_pred_knn['predicted']=='yes') & (df_pred_knn['actual']=='yes')].shape[0]\n",
    "\n",
    "###true negative\n",
    "tn_knn = df_pred_knn[(df_pred_knn['predicted']=='no') & (df_pred_knn['actual']=='no')].shape[0]\n",
    "\n",
    "##false positive\n",
    "fp_knn = df_pred_knn[(df_pred_knn['predicted']=='yes') & (df_pred_knn['actual']=='no')].shape[0]\n",
    "\n",
    "##false negative\n",
    "fn_knn = df_pred_knn[(df_pred_knn['predicted']=='no') & (df_pred_knn['actual']=='yes')].shape[0]\n",
    "\n",
    "print('True Positive %d' % tp_knn)\n",
    "print('True Negative %d' % tn_knn)\n",
    "print('False Positive %d' % fp_knn)\n",
    "print('False Negative %d' % fn_knn)\n",
    "\n",
    "acc_knn = (tp_knn + tn_knn) / (tp_knn + tn_knn + fp_knn + fn_knn)\n",
    "print('Accuracy',acc_knn)\n",
    "\n",
    "sensitivity_knn = tp_knn / (tp_knn + fn_knn)\n",
    "print('Sensitivity',sensitivity_knn)\n",
    "\n",
    "spec_knn = tn_knn/(fp_knn + tn_knn)\n",
    "print('Specificity',spec_knn)"
   ]
  },
  {
   "cell_type": "markdown",
   "metadata": {},
   "source": [
    "## SUMMARY"
   ]
  },
  {
   "cell_type": "code",
   "execution_count": 25,
   "metadata": {},
   "outputs": [
    {
     "data": {
      "text/html": [
       "<div>\n",
       "<style scoped>\n",
       "    .dataframe tbody tr th:only-of-type {\n",
       "        vertical-align: middle;\n",
       "    }\n",
       "\n",
       "    .dataframe tbody tr th {\n",
       "        vertical-align: top;\n",
       "    }\n",
       "\n",
       "    .dataframe thead th {\n",
       "        text-align: right;\n",
       "    }\n",
       "</style>\n",
       "<table border=\"1\" class=\"dataframe\">\n",
       "  <thead>\n",
       "    <tr style=\"text-align: right;\">\n",
       "      <th></th>\n",
       "      <th>DecisionTree</th>\n",
       "      <th>RandomForest</th>\n",
       "      <th>AdaptiveBoosting</th>\n",
       "      <th>KNearestNeighbor</th>\n",
       "    </tr>\n",
       "  </thead>\n",
       "  <tbody>\n",
       "    <tr>\n",
       "      <th>TP</th>\n",
       "      <td>775.00</td>\n",
       "      <td>561.00</td>\n",
       "      <td>585.00</td>\n",
       "      <td>434.00</td>\n",
       "    </tr>\n",
       "    <tr>\n",
       "      <th>TN</th>\n",
       "      <td>11124.00</td>\n",
       "      <td>11643.00</td>\n",
       "      <td>11585.00</td>\n",
       "      <td>11510.00</td>\n",
       "    </tr>\n",
       "    <tr>\n",
       "      <th>FP</th>\n",
       "      <td>861.00</td>\n",
       "      <td>342.00</td>\n",
       "      <td>400.00</td>\n",
       "      <td>475.00</td>\n",
       "    </tr>\n",
       "    <tr>\n",
       "      <th>FN</th>\n",
       "      <td>804.00</td>\n",
       "      <td>1018.00</td>\n",
       "      <td>1018.00</td>\n",
       "      <td>1145.00</td>\n",
       "    </tr>\n",
       "    <tr>\n",
       "      <th>Accuracy</th>\n",
       "      <td>0.88</td>\n",
       "      <td>0.90</td>\n",
       "      <td>0.90</td>\n",
       "      <td>0.88</td>\n",
       "    </tr>\n",
       "    <tr>\n",
       "      <th>Sensitivity</th>\n",
       "      <td>0.49</td>\n",
       "      <td>0.36</td>\n",
       "      <td>0.36</td>\n",
       "      <td>0.27</td>\n",
       "    </tr>\n",
       "    <tr>\n",
       "      <th>Specificity</th>\n",
       "      <td>0.93</td>\n",
       "      <td>0.97</td>\n",
       "      <td>0.97</td>\n",
       "      <td>0.96</td>\n",
       "    </tr>\n",
       "  </tbody>\n",
       "</table>\n",
       "</div>"
      ],
      "text/plain": [
       "             DecisionTree  RandomForest  AdaptiveBoosting  KNearestNeighbor\n",
       "TP                 775.00        561.00            585.00            434.00\n",
       "TN               11124.00      11643.00          11585.00          11510.00\n",
       "FP                 861.00        342.00            400.00            475.00\n",
       "FN                 804.00       1018.00           1018.00           1145.00\n",
       "Accuracy             0.88          0.90              0.90              0.88\n",
       "Sensitivity          0.49          0.36              0.36              0.27\n",
       "Specificity          0.93          0.97              0.97              0.96"
      ]
     },
     "execution_count": 25,
     "metadata": {},
     "output_type": "execute_result"
    }
   ],
   "source": [
    "dt =pd.Series({'TP':tp_dt,'TN':tn_dt,'FP':fp_dt,'FN':fn_dt,'Accuracy':acc_dt,'Sensitivity':sensitivity_dt,'Specificity':spec_dt})\n",
    "rf =pd.Series({'TP':tp_rf,'TN':tn_rf,'FP':fp_rf,'FN':fn_rf,'Accuracy':acc_rf,'Sensitivity':sensitivity_rf,'Specificity':spec_rf})\n",
    "ab =pd.Series({'TP':tp_ab,'TN':tn_ab,'FP':fp_ab,'FN':fn_ab,'Accuracy':acc_ab,'Sensitivity':sensitivity_ab,'Specificity':spec_ab})\n",
    "knn = pd.Series({'TP':tp_knn,'TN':tn_knn,'FP':fp_knn,'FN':fn_knn,'Accuracy':acc_knn,'Sensitivity':sensitivity_knn,'Specificity':spec_knn})\n",
    "df_summary = pd.DataFrame({\"DecisionTree\":dt,'RandomForest':rf,'AdaptiveBoosting':ab,\"KNearestNeighbor\": knn})\n",
    "df_summary\n",
    "df_summary.round(2)"
   ]
  },
  {
   "cell_type": "markdown",
   "metadata": {},
   "source": [
    "## AdaBoosting Theory"
   ]
  },
  {
   "cell_type": "code",
   "execution_count": 65,
   "metadata": {},
   "outputs": [
    {
     "data": {
      "text/plain": [
       "(63,)"
      ]
     },
     "execution_count": 65,
     "metadata": {},
     "output_type": "execute_result"
    }
   ],
   "source": [
    "##Weighted Sampling\n",
    "pd.Series(np.random.randint(1,100,100)).value_counts().shape"
   ]
  },
  {
   "cell_type": "code",
   "execution_count": 73,
   "metadata": {},
   "outputs": [
    {
     "data": {
      "text/plain": [
       "3    60\n",
       "2    33\n",
       "1     7\n",
       "dtype: int64"
      ]
     },
     "execution_count": 73,
     "metadata": {},
     "output_type": "execute_result"
    }
   ],
   "source": [
    "# random integers with given probabilities\n",
    "random_samples=[]\n",
    "for i in range(100):\n",
    "    sample = np.random.choice([1,2,3],p=[0.1,0.3,0.6])\n",
    "    random_samples.append(sample)\n",
    "pd.Series(random_samples).value_counts()"
   ]
  },
  {
   "cell_type": "code",
   "execution_count": null,
   "metadata": {},
   "outputs": [],
   "source": [
    "# Classification Error Rate , Random columns and rows for decision tree 1\n",
    "\n",
    "samples_dt1 = train.iloc[np.random.randint(1,train.shape[0],train.shape[0])]\n",
    "all_cols = np.array(train.drop('Attrition',axis = 1).columns)\n",
    "cols_position = np.random.randint(1,len(all_cols),3)\n",
    "random_cols = all_cols[cols_position]\n",
    "\n",
    "samples_dt1_x = samples_dt1[random_cols]\n",
    "samples_dt1_y = samples_dt1['Attrition']\n",
    "random_cols\n",
    "\n",
    "dt1 = DecisionTreeClassifier(max_depth = 1)\n",
    "dt1.fit(samples_dt1_x,samples_dt1_y)\n",
    "test_pred = dt1.predict(test_x[random_cols])\n",
    "df_pred = pd.DataFrame({'actual':test_y,'predicted':tesy_pred})\n",
    "df_pred"
   ]
  },
  {
   "cell_type": "code",
   "execution_count": 77,
   "metadata": {},
   "outputs": [
    {
     "data": {
      "text/plain": [
       "0.8365924906076799"
      ]
     },
     "execution_count": 77,
     "metadata": {},
     "output_type": "execute_result"
    }
   ],
   "source": [
    "import math\n",
    "0.5 * math.log((1-0.158)/0.158)"
   ]
  }
 ],
 "metadata": {
  "kernelspec": {
   "display_name": "Python 3",
   "language": "python",
   "name": "python3"
  },
  "language_info": {
   "codemirror_mode": {
    "name": "ipython",
    "version": 3
   },
   "file_extension": ".py",
   "mimetype": "text/x-python",
   "name": "python",
   "nbconvert_exporter": "python",
   "pygments_lexer": "ipython3",
   "version": "3.6.4"
  }
 },
 "nbformat": 4,
 "nbformat_minor": 2
}
